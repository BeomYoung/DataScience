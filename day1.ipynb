{
 "cells": [
  {
   "cell_type": "code",
   "execution_count": 1,
   "metadata": {},
   "outputs": [],
   "source": [
    "import pandas as pd"
   ]
  },
  {
   "cell_type": "code",
   "execution_count": 5,
   "metadata": {},
   "outputs": [
    {
     "data": {
      "text/html": [
       "<div>\n",
       "<style scoped>\n",
       "    .dataframe tbody tr th:only-of-type {\n",
       "        vertical-align: middle;\n",
       "    }\n",
       "\n",
       "    .dataframe tbody tr th {\n",
       "        vertical-align: top;\n",
       "    }\n",
       "\n",
       "    .dataframe thead th {\n",
       "        text-align: right;\n",
       "    }\n",
       "</style>\n",
       "<table border=\"1\" class=\"dataframe\">\n",
       "  <thead>\n",
       "    <tr style=\"text-align: right;\">\n",
       "      <th></th>\n",
       "      <th>기관명</th>\n",
       "      <th>소계</th>\n",
       "      <th>2013년도 이전</th>\n",
       "      <th>2014년</th>\n",
       "      <th>2015년</th>\n",
       "      <th>2016년</th>\n",
       "    </tr>\n",
       "  </thead>\n",
       "  <tbody>\n",
       "    <tr>\n",
       "      <td>0</td>\n",
       "      <td>강남구</td>\n",
       "      <td>2780</td>\n",
       "      <td>1292</td>\n",
       "      <td>430</td>\n",
       "      <td>584</td>\n",
       "      <td>932</td>\n",
       "    </tr>\n",
       "    <tr>\n",
       "      <td>1</td>\n",
       "      <td>강동구</td>\n",
       "      <td>773</td>\n",
       "      <td>379</td>\n",
       "      <td>99</td>\n",
       "      <td>155</td>\n",
       "      <td>377</td>\n",
       "    </tr>\n",
       "    <tr>\n",
       "      <td>2</td>\n",
       "      <td>강북구</td>\n",
       "      <td>748</td>\n",
       "      <td>369</td>\n",
       "      <td>120</td>\n",
       "      <td>138</td>\n",
       "      <td>204</td>\n",
       "    </tr>\n",
       "    <tr>\n",
       "      <td>3</td>\n",
       "      <td>강서구</td>\n",
       "      <td>884</td>\n",
       "      <td>388</td>\n",
       "      <td>258</td>\n",
       "      <td>184</td>\n",
       "      <td>81</td>\n",
       "    </tr>\n",
       "    <tr>\n",
       "      <td>4</td>\n",
       "      <td>관악구</td>\n",
       "      <td>1496</td>\n",
       "      <td>846</td>\n",
       "      <td>260</td>\n",
       "      <td>390</td>\n",
       "      <td>613</td>\n",
       "    </tr>\n",
       "  </tbody>\n",
       "</table>\n",
       "</div>"
      ],
      "text/plain": [
       "   기관명    소계  2013년도 이전  2014년  2015년  2016년\n",
       "0  강남구  2780       1292    430    584    932\n",
       "1  강동구   773        379     99    155    377\n",
       "2  강북구   748        369    120    138    204\n",
       "3  강서구   884        388    258    184     81\n",
       "4  관악구  1496        846    260    390    613"
      ]
     },
     "execution_count": 5,
     "metadata": {},
     "output_type": "execute_result"
    }
   ],
   "source": [
    "CCTV_Seoul = pd.read_csv('C:/Users/USER/Desktop/2016726091/DataScience/day1/01. CCTV_in_Seoul.csv', encoding='utf-8')\n",
    "CCTV_Seoul.head()"
   ]
  },
  {
   "cell_type": "code",
   "execution_count": 7,
   "metadata": {},
   "outputs": [
    {
     "data": {
      "text/plain": [
       "Index(['기관명', '소계', '2013년도 이전', '2014년', '2015년', '2016년'], dtype='object')"
      ]
     },
     "execution_count": 7,
     "metadata": {},
     "output_type": "execute_result"
    }
   ],
   "source": [
    "CCTV_Seoul.columns"
   ]
  },
  {
   "cell_type": "code",
   "execution_count": 8,
   "metadata": {},
   "outputs": [
    {
     "data": {
      "text/plain": [
       "'기관명'"
      ]
     },
     "execution_count": 8,
     "metadata": {},
     "output_type": "execute_result"
    }
   ],
   "source": [
    "CCTV_Seoul.columns[0]"
   ]
  },
  {
   "cell_type": "code",
   "execution_count": 9,
   "metadata": {},
   "outputs": [
    {
     "data": {
      "text/html": [
       "<div>\n",
       "<style scoped>\n",
       "    .dataframe tbody tr th:only-of-type {\n",
       "        vertical-align: middle;\n",
       "    }\n",
       "\n",
       "    .dataframe tbody tr th {\n",
       "        vertical-align: top;\n",
       "    }\n",
       "\n",
       "    .dataframe thead th {\n",
       "        text-align: right;\n",
       "    }\n",
       "</style>\n",
       "<table border=\"1\" class=\"dataframe\">\n",
       "  <thead>\n",
       "    <tr style=\"text-align: right;\">\n",
       "      <th></th>\n",
       "      <th>구별</th>\n",
       "      <th>소계</th>\n",
       "      <th>2013년도 이전</th>\n",
       "      <th>2014년</th>\n",
       "      <th>2015년</th>\n",
       "      <th>2016년</th>\n",
       "    </tr>\n",
       "  </thead>\n",
       "  <tbody>\n",
       "    <tr>\n",
       "      <td>0</td>\n",
       "      <td>강남구</td>\n",
       "      <td>2780</td>\n",
       "      <td>1292</td>\n",
       "      <td>430</td>\n",
       "      <td>584</td>\n",
       "      <td>932</td>\n",
       "    </tr>\n",
       "    <tr>\n",
       "      <td>1</td>\n",
       "      <td>강동구</td>\n",
       "      <td>773</td>\n",
       "      <td>379</td>\n",
       "      <td>99</td>\n",
       "      <td>155</td>\n",
       "      <td>377</td>\n",
       "    </tr>\n",
       "    <tr>\n",
       "      <td>2</td>\n",
       "      <td>강북구</td>\n",
       "      <td>748</td>\n",
       "      <td>369</td>\n",
       "      <td>120</td>\n",
       "      <td>138</td>\n",
       "      <td>204</td>\n",
       "    </tr>\n",
       "    <tr>\n",
       "      <td>3</td>\n",
       "      <td>강서구</td>\n",
       "      <td>884</td>\n",
       "      <td>388</td>\n",
       "      <td>258</td>\n",
       "      <td>184</td>\n",
       "      <td>81</td>\n",
       "    </tr>\n",
       "    <tr>\n",
       "      <td>4</td>\n",
       "      <td>관악구</td>\n",
       "      <td>1496</td>\n",
       "      <td>846</td>\n",
       "      <td>260</td>\n",
       "      <td>390</td>\n",
       "      <td>613</td>\n",
       "    </tr>\n",
       "  </tbody>\n",
       "</table>\n",
       "</div>"
      ],
      "text/plain": [
       "    구별    소계  2013년도 이전  2014년  2015년  2016년\n",
       "0  강남구  2780       1292    430    584    932\n",
       "1  강동구   773        379     99    155    377\n",
       "2  강북구   748        369    120    138    204\n",
       "3  강서구   884        388    258    184     81\n",
       "4  관악구  1496        846    260    390    613"
      ]
     },
     "execution_count": 9,
     "metadata": {},
     "output_type": "execute_result"
    }
   ],
   "source": [
    "CCTV_Seoul.rename(columns={CCTV_Seoul.columns[0] : '구별'}, inplace=True)\n",
    "CCTV_Seoul.head()"
   ]
  },
  {
   "cell_type": "code",
   "execution_count": 10,
   "metadata": {},
   "outputs": [
    {
     "data": {
      "text/html": [
       "<div>\n",
       "<style scoped>\n",
       "    .dataframe tbody tr th:only-of-type {\n",
       "        vertical-align: middle;\n",
       "    }\n",
       "\n",
       "    .dataframe tbody tr th {\n",
       "        vertical-align: top;\n",
       "    }\n",
       "\n",
       "    .dataframe thead th {\n",
       "        text-align: right;\n",
       "    }\n",
       "</style>\n",
       "<table border=\"1\" class=\"dataframe\">\n",
       "  <thead>\n",
       "    <tr style=\"text-align: right;\">\n",
       "      <th></th>\n",
       "      <th>기간</th>\n",
       "      <th>자치구</th>\n",
       "      <th>세대</th>\n",
       "      <th>인구</th>\n",
       "      <th>인구.1</th>\n",
       "      <th>인구.2</th>\n",
       "      <th>인구.3</th>\n",
       "      <th>인구.4</th>\n",
       "      <th>인구.5</th>\n",
       "      <th>인구.6</th>\n",
       "      <th>인구.7</th>\n",
       "      <th>인구.8</th>\n",
       "      <th>세대당인구</th>\n",
       "      <th>65세이상고령자</th>\n",
       "    </tr>\n",
       "  </thead>\n",
       "  <tbody>\n",
       "    <tr>\n",
       "      <td>0</td>\n",
       "      <td>기간</td>\n",
       "      <td>자치구</td>\n",
       "      <td>세대</td>\n",
       "      <td>합계</td>\n",
       "      <td>합계</td>\n",
       "      <td>합계</td>\n",
       "      <td>한국인</td>\n",
       "      <td>한국인</td>\n",
       "      <td>한국인</td>\n",
       "      <td>등록외국인</td>\n",
       "      <td>등록외국인</td>\n",
       "      <td>등록외국인</td>\n",
       "      <td>세대당인구</td>\n",
       "      <td>65세이상고령자</td>\n",
       "    </tr>\n",
       "    <tr>\n",
       "      <td>1</td>\n",
       "      <td>기간</td>\n",
       "      <td>자치구</td>\n",
       "      <td>세대</td>\n",
       "      <td>계</td>\n",
       "      <td>남자</td>\n",
       "      <td>여자</td>\n",
       "      <td>계</td>\n",
       "      <td>남자</td>\n",
       "      <td>여자</td>\n",
       "      <td>계</td>\n",
       "      <td>남자</td>\n",
       "      <td>여자</td>\n",
       "      <td>세대당인구</td>\n",
       "      <td>65세이상고령자</td>\n",
       "    </tr>\n",
       "    <tr>\n",
       "      <td>2</td>\n",
       "      <td>2017.1/4</td>\n",
       "      <td>합계</td>\n",
       "      <td>4202888</td>\n",
       "      <td>10197604</td>\n",
       "      <td>5000005</td>\n",
       "      <td>5197599</td>\n",
       "      <td>9926968</td>\n",
       "      <td>4871560</td>\n",
       "      <td>5055408</td>\n",
       "      <td>270636</td>\n",
       "      <td>128445</td>\n",
       "      <td>142191</td>\n",
       "      <td>2.36</td>\n",
       "      <td>1321458</td>\n",
       "    </tr>\n",
       "    <tr>\n",
       "      <td>3</td>\n",
       "      <td>2017.1/4</td>\n",
       "      <td>종로구</td>\n",
       "      <td>72654</td>\n",
       "      <td>162820</td>\n",
       "      <td>79675</td>\n",
       "      <td>83145</td>\n",
       "      <td>153589</td>\n",
       "      <td>75611</td>\n",
       "      <td>77978</td>\n",
       "      <td>9231</td>\n",
       "      <td>4064</td>\n",
       "      <td>5167</td>\n",
       "      <td>2.11</td>\n",
       "      <td>25425</td>\n",
       "    </tr>\n",
       "    <tr>\n",
       "      <td>4</td>\n",
       "      <td>2017.1/4</td>\n",
       "      <td>중구</td>\n",
       "      <td>59481</td>\n",
       "      <td>133240</td>\n",
       "      <td>65790</td>\n",
       "      <td>67450</td>\n",
       "      <td>124312</td>\n",
       "      <td>61656</td>\n",
       "      <td>62656</td>\n",
       "      <td>8928</td>\n",
       "      <td>4134</td>\n",
       "      <td>4794</td>\n",
       "      <td>2.09</td>\n",
       "      <td>20764</td>\n",
       "    </tr>\n",
       "  </tbody>\n",
       "</table>\n",
       "</div>"
      ],
      "text/plain": [
       "         기간  자치구       세대        인구     인구.1     인구.2     인구.3     인구.4  \\\n",
       "0        기간  자치구       세대        합계       합계       합계      한국인      한국인   \n",
       "1        기간  자치구       세대         계       남자       여자        계       남자   \n",
       "2  2017.1/4   합계  4202888  10197604  5000005  5197599  9926968  4871560   \n",
       "3  2017.1/4  종로구    72654    162820    79675    83145   153589    75611   \n",
       "4  2017.1/4   중구    59481    133240    65790    67450   124312    61656   \n",
       "\n",
       "      인구.5    인구.6    인구.7    인구.8  세대당인구  65세이상고령자  \n",
       "0      한국인   등록외국인   등록외국인   등록외국인  세대당인구  65세이상고령자  \n",
       "1       여자       계      남자      여자  세대당인구  65세이상고령자  \n",
       "2  5055408  270636  128445  142191   2.36   1321458  \n",
       "3    77978    9231    4064    5167   2.11     25425  \n",
       "4    62656    8928    4134    4794   2.09     20764  "
      ]
     },
     "execution_count": 10,
     "metadata": {},
     "output_type": "execute_result"
    }
   ],
   "source": [
    "CCTV_Seoul = pd.read_excel(\"C:/Users/USER/Desktop/2016726091/DataScience/day1/01. population_in_Seoul.xls\", encoding='utf-8')\n",
    "CCTV_Seoul.head()"
   ]
  },
  {
   "cell_type": "code",
   "execution_count": 14,
   "metadata": {},
   "outputs": [
    {
     "data": {
      "text/html": [
       "<div>\n",
       "<style scoped>\n",
       "    .dataframe tbody tr th:only-of-type {\n",
       "        vertical-align: middle;\n",
       "    }\n",
       "\n",
       "    .dataframe tbody tr th {\n",
       "        vertical-align: top;\n",
       "    }\n",
       "\n",
       "    .dataframe thead th {\n",
       "        text-align: right;\n",
       "    }\n",
       "</style>\n",
       "<table border=\"1\" class=\"dataframe\">\n",
       "  <thead>\n",
       "    <tr style=\"text-align: right;\">\n",
       "      <th></th>\n",
       "      <th>자치구</th>\n",
       "      <th>계</th>\n",
       "      <th>계.1</th>\n",
       "      <th>계.2</th>\n",
       "      <th>65세이상고령자</th>\n",
       "    </tr>\n",
       "  </thead>\n",
       "  <tbody>\n",
       "    <tr>\n",
       "      <td>0</td>\n",
       "      <td>합계</td>\n",
       "      <td>10197604.0</td>\n",
       "      <td>9926968.0</td>\n",
       "      <td>270636.0</td>\n",
       "      <td>1321458.0</td>\n",
       "    </tr>\n",
       "    <tr>\n",
       "      <td>1</td>\n",
       "      <td>종로구</td>\n",
       "      <td>162820.0</td>\n",
       "      <td>153589.0</td>\n",
       "      <td>9231.0</td>\n",
       "      <td>25425.0</td>\n",
       "    </tr>\n",
       "    <tr>\n",
       "      <td>2</td>\n",
       "      <td>중구</td>\n",
       "      <td>133240.0</td>\n",
       "      <td>124312.0</td>\n",
       "      <td>8928.0</td>\n",
       "      <td>20764.0</td>\n",
       "    </tr>\n",
       "    <tr>\n",
       "      <td>3</td>\n",
       "      <td>용산구</td>\n",
       "      <td>244203.0</td>\n",
       "      <td>229456.0</td>\n",
       "      <td>14747.0</td>\n",
       "      <td>36231.0</td>\n",
       "    </tr>\n",
       "    <tr>\n",
       "      <td>4</td>\n",
       "      <td>성동구</td>\n",
       "      <td>311244.0</td>\n",
       "      <td>303380.0</td>\n",
       "      <td>7864.0</td>\n",
       "      <td>39997.0</td>\n",
       "    </tr>\n",
       "  </tbody>\n",
       "</table>\n",
       "</div>"
      ],
      "text/plain": [
       "   자치구           계        계.1       계.2   65세이상고령자\n",
       "0   합계  10197604.0  9926968.0  270636.0  1321458.0\n",
       "1  종로구    162820.0   153589.0    9231.0    25425.0\n",
       "2   중구    133240.0   124312.0    8928.0    20764.0\n",
       "3  용산구    244203.0   229456.0   14747.0    36231.0\n",
       "4  성동구    311244.0   303380.0    7864.0    39997.0"
      ]
     },
     "execution_count": 14,
     "metadata": {},
     "output_type": "execute_result"
    }
   ],
   "source": [
    "pop_Seoul = pd.read_excel(\"C:/Users/USER/Desktop/2016726091/DataScience/day1/01. population_in_Seoul.xls\", \n",
    "                          header = 2, \n",
    "                          usecols = 'B, D, G, J, N', \n",
    "                          encoding='utf-8')\n",
    "pop_Seoul.head()"
   ]
  },
  {
   "cell_type": "code",
   "execution_count": 15,
   "metadata": {},
   "outputs": [
    {
     "data": {
      "text/html": [
       "<div>\n",
       "<style scoped>\n",
       "    .dataframe tbody tr th:only-of-type {\n",
       "        vertical-align: middle;\n",
       "    }\n",
       "\n",
       "    .dataframe tbody tr th {\n",
       "        vertical-align: top;\n",
       "    }\n",
       "\n",
       "    .dataframe thead th {\n",
       "        text-align: right;\n",
       "    }\n",
       "</style>\n",
       "<table border=\"1\" class=\"dataframe\">\n",
       "  <thead>\n",
       "    <tr style=\"text-align: right;\">\n",
       "      <th></th>\n",
       "      <th>구별</th>\n",
       "      <th>인구수</th>\n",
       "      <th>한국인</th>\n",
       "      <th>외국인</th>\n",
       "      <th>고령자</th>\n",
       "    </tr>\n",
       "  </thead>\n",
       "  <tbody>\n",
       "    <tr>\n",
       "      <td>0</td>\n",
       "      <td>합계</td>\n",
       "      <td>10197604.0</td>\n",
       "      <td>9926968.0</td>\n",
       "      <td>270636.0</td>\n",
       "      <td>1321458.0</td>\n",
       "    </tr>\n",
       "    <tr>\n",
       "      <td>1</td>\n",
       "      <td>종로구</td>\n",
       "      <td>162820.0</td>\n",
       "      <td>153589.0</td>\n",
       "      <td>9231.0</td>\n",
       "      <td>25425.0</td>\n",
       "    </tr>\n",
       "    <tr>\n",
       "      <td>2</td>\n",
       "      <td>중구</td>\n",
       "      <td>133240.0</td>\n",
       "      <td>124312.0</td>\n",
       "      <td>8928.0</td>\n",
       "      <td>20764.0</td>\n",
       "    </tr>\n",
       "    <tr>\n",
       "      <td>3</td>\n",
       "      <td>용산구</td>\n",
       "      <td>244203.0</td>\n",
       "      <td>229456.0</td>\n",
       "      <td>14747.0</td>\n",
       "      <td>36231.0</td>\n",
       "    </tr>\n",
       "    <tr>\n",
       "      <td>4</td>\n",
       "      <td>성동구</td>\n",
       "      <td>311244.0</td>\n",
       "      <td>303380.0</td>\n",
       "      <td>7864.0</td>\n",
       "      <td>39997.0</td>\n",
       "    </tr>\n",
       "  </tbody>\n",
       "</table>\n",
       "</div>"
      ],
      "text/plain": [
       "    구별         인구수        한국인       외국인        고령자\n",
       "0   합계  10197604.0  9926968.0  270636.0  1321458.0\n",
       "1  종로구    162820.0   153589.0    9231.0    25425.0\n",
       "2   중구    133240.0   124312.0    8928.0    20764.0\n",
       "3  용산구    244203.0   229456.0   14747.0    36231.0\n",
       "4  성동구    311244.0   303380.0    7864.0    39997.0"
      ]
     },
     "execution_count": 15,
     "metadata": {},
     "output_type": "execute_result"
    }
   ],
   "source": [
    "pop_Seoul.rename(columns={pop_Seoul.columns[0] : '구별',\n",
    "                         pop_Seoul.columns[1] : '인구수',\n",
    "                         pop_Seoul.columns[2] : '한국인',\n",
    "                         pop_Seoul.columns[3] : '외국인',\n",
    "                         pop_Seoul.columns[4] : '고령자'}, inplace = True)\n",
    "pop_Seoul.head()"
   ]
  },
  {
   "cell_type": "code",
   "execution_count": 16,
   "metadata": {},
   "outputs": [],
   "source": [
    "import pandas as pd\n",
    "import numpy as np"
   ]
  },
  {
   "cell_type": "code",
   "execution_count": 17,
   "metadata": {},
   "outputs": [
    {
     "data": {
      "text/plain": [
       "0    1.0\n",
       "1    3.0\n",
       "2    5.0\n",
       "3    NaN\n",
       "4    6.0\n",
       "5    8.0\n",
       "dtype: float64"
      ]
     },
     "execution_count": 17,
     "metadata": {},
     "output_type": "execute_result"
    }
   ],
   "source": [
    "s = pd.Series([1,3,5,np.nan,6,8])\n",
    "s"
   ]
  },
  {
   "cell_type": "code",
   "execution_count": 18,
   "metadata": {},
   "outputs": [
    {
     "data": {
      "text/plain": [
       "DatetimeIndex(['2013-01-01', '2013-01-02', '2013-01-03', '2013-01-04',\n",
       "               '2013-01-05', '2013-01-06'],\n",
       "              dtype='datetime64[ns]', freq='D')"
      ]
     },
     "execution_count": 18,
     "metadata": {},
     "output_type": "execute_result"
    }
   ],
   "source": [
    "dates = pd.date_range('20130101', periods = 6)\n",
    "dates"
   ]
  },
  {
   "cell_type": "code",
   "execution_count": 19,
   "metadata": {},
   "outputs": [
    {
     "data": {
      "text/html": [
       "<div>\n",
       "<style scoped>\n",
       "    .dataframe tbody tr th:only-of-type {\n",
       "        vertical-align: middle;\n",
       "    }\n",
       "\n",
       "    .dataframe tbody tr th {\n",
       "        vertical-align: top;\n",
       "    }\n",
       "\n",
       "    .dataframe thead th {\n",
       "        text-align: right;\n",
       "    }\n",
       "</style>\n",
       "<table border=\"1\" class=\"dataframe\">\n",
       "  <thead>\n",
       "    <tr style=\"text-align: right;\">\n",
       "      <th></th>\n",
       "      <th>A</th>\n",
       "      <th>B</th>\n",
       "      <th>C</th>\n",
       "      <th>D</th>\n",
       "    </tr>\n",
       "  </thead>\n",
       "  <tbody>\n",
       "    <tr>\n",
       "      <td>2013-01-01</td>\n",
       "      <td>-0.999190</td>\n",
       "      <td>1.423361</td>\n",
       "      <td>-0.134757</td>\n",
       "      <td>0.789472</td>\n",
       "    </tr>\n",
       "    <tr>\n",
       "      <td>2013-01-02</td>\n",
       "      <td>-0.572734</td>\n",
       "      <td>-0.749748</td>\n",
       "      <td>-1.766686</td>\n",
       "      <td>1.366817</td>\n",
       "    </tr>\n",
       "    <tr>\n",
       "      <td>2013-01-03</td>\n",
       "      <td>-0.236762</td>\n",
       "      <td>1.066653</td>\n",
       "      <td>0.036250</td>\n",
       "      <td>-1.024930</td>\n",
       "    </tr>\n",
       "    <tr>\n",
       "      <td>2013-01-04</td>\n",
       "      <td>1.182217</td>\n",
       "      <td>-0.306250</td>\n",
       "      <td>-0.477980</td>\n",
       "      <td>-0.275904</td>\n",
       "    </tr>\n",
       "    <tr>\n",
       "      <td>2013-01-05</td>\n",
       "      <td>0.475251</td>\n",
       "      <td>0.239123</td>\n",
       "      <td>-0.937530</td>\n",
       "      <td>-1.624414</td>\n",
       "    </tr>\n",
       "    <tr>\n",
       "      <td>2013-01-06</td>\n",
       "      <td>-0.391691</td>\n",
       "      <td>-0.500131</td>\n",
       "      <td>-0.544398</td>\n",
       "      <td>0.797453</td>\n",
       "    </tr>\n",
       "  </tbody>\n",
       "</table>\n",
       "</div>"
      ],
      "text/plain": [
       "                   A         B         C         D\n",
       "2013-01-01 -0.999190  1.423361 -0.134757  0.789472\n",
       "2013-01-02 -0.572734 -0.749748 -1.766686  1.366817\n",
       "2013-01-03 -0.236762  1.066653  0.036250 -1.024930\n",
       "2013-01-04  1.182217 -0.306250 -0.477980 -0.275904\n",
       "2013-01-05  0.475251  0.239123 -0.937530 -1.624414\n",
       "2013-01-06 -0.391691 -0.500131 -0.544398  0.797453"
      ]
     },
     "execution_count": 19,
     "metadata": {},
     "output_type": "execute_result"
    }
   ],
   "source": [
    "df = pd.DataFrame(np.random.randn(6,4), index=dates, columns=['A','B','C','D'])\n",
    "df"
   ]
  },
  {
   "cell_type": "code",
   "execution_count": 20,
   "metadata": {},
   "outputs": [
    {
     "data": {
      "text/html": [
       "<div>\n",
       "<style scoped>\n",
       "    .dataframe tbody tr th:only-of-type {\n",
       "        vertical-align: middle;\n",
       "    }\n",
       "\n",
       "    .dataframe tbody tr th {\n",
       "        vertical-align: top;\n",
       "    }\n",
       "\n",
       "    .dataframe thead th {\n",
       "        text-align: right;\n",
       "    }\n",
       "</style>\n",
       "<table border=\"1\" class=\"dataframe\">\n",
       "  <thead>\n",
       "    <tr style=\"text-align: right;\">\n",
       "      <th></th>\n",
       "      <th>A</th>\n",
       "      <th>B</th>\n",
       "      <th>C</th>\n",
       "      <th>D</th>\n",
       "    </tr>\n",
       "  </thead>\n",
       "  <tbody>\n",
       "    <tr>\n",
       "      <td>2013-01-01</td>\n",
       "      <td>-0.999190</td>\n",
       "      <td>1.423361</td>\n",
       "      <td>-0.134757</td>\n",
       "      <td>0.789472</td>\n",
       "    </tr>\n",
       "    <tr>\n",
       "      <td>2013-01-02</td>\n",
       "      <td>-0.572734</td>\n",
       "      <td>-0.749748</td>\n",
       "      <td>-1.766686</td>\n",
       "      <td>1.366817</td>\n",
       "    </tr>\n",
       "    <tr>\n",
       "      <td>2013-01-03</td>\n",
       "      <td>-0.236762</td>\n",
       "      <td>1.066653</td>\n",
       "      <td>0.036250</td>\n",
       "      <td>-1.024930</td>\n",
       "    </tr>\n",
       "  </tbody>\n",
       "</table>\n",
       "</div>"
      ],
      "text/plain": [
       "                   A         B         C         D\n",
       "2013-01-01 -0.999190  1.423361 -0.134757  0.789472\n",
       "2013-01-02 -0.572734 -0.749748 -1.766686  1.366817\n",
       "2013-01-03 -0.236762  1.066653  0.036250 -1.024930"
      ]
     },
     "execution_count": 20,
     "metadata": {},
     "output_type": "execute_result"
    }
   ],
   "source": [
    "df.head(3)"
   ]
  },
  {
   "cell_type": "code",
   "execution_count": 21,
   "metadata": {},
   "outputs": [
    {
     "data": {
      "text/plain": [
       "DatetimeIndex(['2013-01-01', '2013-01-02', '2013-01-03', '2013-01-04',\n",
       "               '2013-01-05', '2013-01-06'],\n",
       "              dtype='datetime64[ns]', freq='D')"
      ]
     },
     "execution_count": 21,
     "metadata": {},
     "output_type": "execute_result"
    }
   ],
   "source": [
    "df.index"
   ]
  },
  {
   "cell_type": "code",
   "execution_count": 22,
   "metadata": {},
   "outputs": [
    {
     "data": {
      "text/plain": [
       "Index(['A', 'B', 'C', 'D'], dtype='object')"
      ]
     },
     "execution_count": 22,
     "metadata": {},
     "output_type": "execute_result"
    }
   ],
   "source": [
    "df.columns"
   ]
  },
  {
   "cell_type": "code",
   "execution_count": 23,
   "metadata": {},
   "outputs": [
    {
     "data": {
      "text/plain": [
       "array([[-0.99918972,  1.42336063, -0.13475702,  0.78947195],\n",
       "       [-0.57273399, -0.74974829, -1.7666855 ,  1.36681655],\n",
       "       [-0.23676152,  1.06665304,  0.03625011, -1.02493019],\n",
       "       [ 1.18221733, -0.30625044, -0.47797978, -0.27590406],\n",
       "       [ 0.47525055,  0.23912305, -0.93752961, -1.62441395],\n",
       "       [-0.39169051, -0.50013083, -0.54439824,  0.79745268]])"
      ]
     },
     "execution_count": 23,
     "metadata": {},
     "output_type": "execute_result"
    }
   ],
   "source": [
    "df.values"
   ]
  },
  {
   "cell_type": "code",
   "execution_count": 24,
   "metadata": {},
   "outputs": [
    {
     "name": "stdout",
     "output_type": "stream",
     "text": [
      "<class 'pandas.core.frame.DataFrame'>\n",
      "DatetimeIndex: 6 entries, 2013-01-01 to 2013-01-06\n",
      "Freq: D\n",
      "Data columns (total 4 columns):\n",
      "A    6 non-null float64\n",
      "B    6 non-null float64\n",
      "C    6 non-null float64\n",
      "D    6 non-null float64\n",
      "dtypes: float64(4)\n",
      "memory usage: 240.0 bytes\n"
     ]
    }
   ],
   "source": [
    "df.info()"
   ]
  },
  {
   "cell_type": "code",
   "execution_count": 25,
   "metadata": {},
   "outputs": [
    {
     "data": {
      "text/html": [
       "<div>\n",
       "<style scoped>\n",
       "    .dataframe tbody tr th:only-of-type {\n",
       "        vertical-align: middle;\n",
       "    }\n",
       "\n",
       "    .dataframe tbody tr th {\n",
       "        vertical-align: top;\n",
       "    }\n",
       "\n",
       "    .dataframe thead th {\n",
       "        text-align: right;\n",
       "    }\n",
       "</style>\n",
       "<table border=\"1\" class=\"dataframe\">\n",
       "  <thead>\n",
       "    <tr style=\"text-align: right;\">\n",
       "      <th></th>\n",
       "      <th>A</th>\n",
       "      <th>B</th>\n",
       "      <th>C</th>\n",
       "      <th>D</th>\n",
       "    </tr>\n",
       "  </thead>\n",
       "  <tbody>\n",
       "    <tr>\n",
       "      <td>count</td>\n",
       "      <td>6.000000</td>\n",
       "      <td>6.000000</td>\n",
       "      <td>6.000000</td>\n",
       "      <td>6.000000</td>\n",
       "    </tr>\n",
       "    <tr>\n",
       "      <td>mean</td>\n",
       "      <td>-0.090485</td>\n",
       "      <td>0.195501</td>\n",
       "      <td>-0.637517</td>\n",
       "      <td>0.004749</td>\n",
       "    </tr>\n",
       "    <tr>\n",
       "      <td>std</td>\n",
       "      <td>0.788702</td>\n",
       "      <td>0.882905</td>\n",
       "      <td>0.648981</td>\n",
       "      <td>1.174102</td>\n",
       "    </tr>\n",
       "    <tr>\n",
       "      <td>min</td>\n",
       "      <td>-0.999190</td>\n",
       "      <td>-0.749748</td>\n",
       "      <td>-1.766686</td>\n",
       "      <td>-1.624414</td>\n",
       "    </tr>\n",
       "    <tr>\n",
       "      <td>25%</td>\n",
       "      <td>-0.527473</td>\n",
       "      <td>-0.451661</td>\n",
       "      <td>-0.839247</td>\n",
       "      <td>-0.837674</td>\n",
       "    </tr>\n",
       "    <tr>\n",
       "      <td>50%</td>\n",
       "      <td>-0.314226</td>\n",
       "      <td>-0.033564</td>\n",
       "      <td>-0.511189</td>\n",
       "      <td>0.256784</td>\n",
       "    </tr>\n",
       "    <tr>\n",
       "      <td>75%</td>\n",
       "      <td>0.297248</td>\n",
       "      <td>0.859771</td>\n",
       "      <td>-0.220563</td>\n",
       "      <td>0.795457</td>\n",
       "    </tr>\n",
       "    <tr>\n",
       "      <td>max</td>\n",
       "      <td>1.182217</td>\n",
       "      <td>1.423361</td>\n",
       "      <td>0.036250</td>\n",
       "      <td>1.366817</td>\n",
       "    </tr>\n",
       "  </tbody>\n",
       "</table>\n",
       "</div>"
      ],
      "text/plain": [
       "              A         B         C         D\n",
       "count  6.000000  6.000000  6.000000  6.000000\n",
       "mean  -0.090485  0.195501 -0.637517  0.004749\n",
       "std    0.788702  0.882905  0.648981  1.174102\n",
       "min   -0.999190 -0.749748 -1.766686 -1.624414\n",
       "25%   -0.527473 -0.451661 -0.839247 -0.837674\n",
       "50%   -0.314226 -0.033564 -0.511189  0.256784\n",
       "75%    0.297248  0.859771 -0.220563  0.795457\n",
       "max    1.182217  1.423361  0.036250  1.366817"
      ]
     },
     "execution_count": 25,
     "metadata": {},
     "output_type": "execute_result"
    }
   ],
   "source": [
    "df.describe()"
   ]
  },
  {
   "cell_type": "code",
   "execution_count": 26,
   "metadata": {},
   "outputs": [
    {
     "data": {
      "text/html": [
       "<div>\n",
       "<style scoped>\n",
       "    .dataframe tbody tr th:only-of-type {\n",
       "        vertical-align: middle;\n",
       "    }\n",
       "\n",
       "    .dataframe tbody tr th {\n",
       "        vertical-align: top;\n",
       "    }\n",
       "\n",
       "    .dataframe thead th {\n",
       "        text-align: right;\n",
       "    }\n",
       "</style>\n",
       "<table border=\"1\" class=\"dataframe\">\n",
       "  <thead>\n",
       "    <tr style=\"text-align: right;\">\n",
       "      <th></th>\n",
       "      <th>A</th>\n",
       "      <th>B</th>\n",
       "      <th>C</th>\n",
       "      <th>D</th>\n",
       "    </tr>\n",
       "  </thead>\n",
       "  <tbody>\n",
       "    <tr>\n",
       "      <td>2013-01-01</td>\n",
       "      <td>-0.999190</td>\n",
       "      <td>1.423361</td>\n",
       "      <td>-0.134757</td>\n",
       "      <td>0.789472</td>\n",
       "    </tr>\n",
       "    <tr>\n",
       "      <td>2013-01-03</td>\n",
       "      <td>-0.236762</td>\n",
       "      <td>1.066653</td>\n",
       "      <td>0.036250</td>\n",
       "      <td>-1.024930</td>\n",
       "    </tr>\n",
       "    <tr>\n",
       "      <td>2013-01-05</td>\n",
       "      <td>0.475251</td>\n",
       "      <td>0.239123</td>\n",
       "      <td>-0.937530</td>\n",
       "      <td>-1.624414</td>\n",
       "    </tr>\n",
       "    <tr>\n",
       "      <td>2013-01-04</td>\n",
       "      <td>1.182217</td>\n",
       "      <td>-0.306250</td>\n",
       "      <td>-0.477980</td>\n",
       "      <td>-0.275904</td>\n",
       "    </tr>\n",
       "    <tr>\n",
       "      <td>2013-01-06</td>\n",
       "      <td>-0.391691</td>\n",
       "      <td>-0.500131</td>\n",
       "      <td>-0.544398</td>\n",
       "      <td>0.797453</td>\n",
       "    </tr>\n",
       "    <tr>\n",
       "      <td>2013-01-02</td>\n",
       "      <td>-0.572734</td>\n",
       "      <td>-0.749748</td>\n",
       "      <td>-1.766686</td>\n",
       "      <td>1.366817</td>\n",
       "    </tr>\n",
       "  </tbody>\n",
       "</table>\n",
       "</div>"
      ],
      "text/plain": [
       "                   A         B         C         D\n",
       "2013-01-01 -0.999190  1.423361 -0.134757  0.789472\n",
       "2013-01-03 -0.236762  1.066653  0.036250 -1.024930\n",
       "2013-01-05  0.475251  0.239123 -0.937530 -1.624414\n",
       "2013-01-04  1.182217 -0.306250 -0.477980 -0.275904\n",
       "2013-01-06 -0.391691 -0.500131 -0.544398  0.797453\n",
       "2013-01-02 -0.572734 -0.749748 -1.766686  1.366817"
      ]
     },
     "execution_count": 26,
     "metadata": {},
     "output_type": "execute_result"
    }
   ],
   "source": [
    "df.sort_values(by='B', ascending=False)"
   ]
  },
  {
   "cell_type": "code",
   "execution_count": 27,
   "metadata": {},
   "outputs": [
    {
     "data": {
      "text/plain": [
       "2013-01-01   -0.999190\n",
       "2013-01-02   -0.572734\n",
       "2013-01-03   -0.236762\n",
       "2013-01-04    1.182217\n",
       "2013-01-05    0.475251\n",
       "2013-01-06   -0.391691\n",
       "Freq: D, Name: A, dtype: float64"
      ]
     },
     "execution_count": 27,
     "metadata": {},
     "output_type": "execute_result"
    }
   ],
   "source": [
    "df['A']"
   ]
  },
  {
   "cell_type": "code",
   "execution_count": 28,
   "metadata": {},
   "outputs": [
    {
     "data": {
      "text/html": [
       "<div>\n",
       "<style scoped>\n",
       "    .dataframe tbody tr th:only-of-type {\n",
       "        vertical-align: middle;\n",
       "    }\n",
       "\n",
       "    .dataframe tbody tr th {\n",
       "        vertical-align: top;\n",
       "    }\n",
       "\n",
       "    .dataframe thead th {\n",
       "        text-align: right;\n",
       "    }\n",
       "</style>\n",
       "<table border=\"1\" class=\"dataframe\">\n",
       "  <thead>\n",
       "    <tr style=\"text-align: right;\">\n",
       "      <th></th>\n",
       "      <th>A</th>\n",
       "      <th>B</th>\n",
       "      <th>C</th>\n",
       "      <th>D</th>\n",
       "    </tr>\n",
       "  </thead>\n",
       "  <tbody>\n",
       "    <tr>\n",
       "      <td>count</td>\n",
       "      <td>6.000000</td>\n",
       "      <td>6.000000</td>\n",
       "      <td>6.000000</td>\n",
       "      <td>6.000000</td>\n",
       "    </tr>\n",
       "    <tr>\n",
       "      <td>mean</td>\n",
       "      <td>-0.090485</td>\n",
       "      <td>0.195501</td>\n",
       "      <td>-0.637517</td>\n",
       "      <td>0.004749</td>\n",
       "    </tr>\n",
       "    <tr>\n",
       "      <td>std</td>\n",
       "      <td>0.788702</td>\n",
       "      <td>0.882905</td>\n",
       "      <td>0.648981</td>\n",
       "      <td>1.174102</td>\n",
       "    </tr>\n",
       "    <tr>\n",
       "      <td>min</td>\n",
       "      <td>-0.999190</td>\n",
       "      <td>-0.749748</td>\n",
       "      <td>-1.766686</td>\n",
       "      <td>-1.624414</td>\n",
       "    </tr>\n",
       "    <tr>\n",
       "      <td>25%</td>\n",
       "      <td>-0.527473</td>\n",
       "      <td>-0.451661</td>\n",
       "      <td>-0.839247</td>\n",
       "      <td>-0.837674</td>\n",
       "    </tr>\n",
       "    <tr>\n",
       "      <td>50%</td>\n",
       "      <td>-0.314226</td>\n",
       "      <td>-0.033564</td>\n",
       "      <td>-0.511189</td>\n",
       "      <td>0.256784</td>\n",
       "    </tr>\n",
       "    <tr>\n",
       "      <td>75%</td>\n",
       "      <td>0.297248</td>\n",
       "      <td>0.859771</td>\n",
       "      <td>-0.220563</td>\n",
       "      <td>0.795457</td>\n",
       "    </tr>\n",
       "    <tr>\n",
       "      <td>max</td>\n",
       "      <td>1.182217</td>\n",
       "      <td>1.423361</td>\n",
       "      <td>0.036250</td>\n",
       "      <td>1.366817</td>\n",
       "    </tr>\n",
       "  </tbody>\n",
       "</table>\n",
       "</div>"
      ],
      "text/plain": [
       "              A         B         C         D\n",
       "count  6.000000  6.000000  6.000000  6.000000\n",
       "mean  -0.090485  0.195501 -0.637517  0.004749\n",
       "std    0.788702  0.882905  0.648981  1.174102\n",
       "min   -0.999190 -0.749748 -1.766686 -1.624414\n",
       "25%   -0.527473 -0.451661 -0.839247 -0.837674\n",
       "50%   -0.314226 -0.033564 -0.511189  0.256784\n",
       "75%    0.297248  0.859771 -0.220563  0.795457\n",
       "max    1.182217  1.423361  0.036250  1.366817"
      ]
     },
     "execution_count": 28,
     "metadata": {},
     "output_type": "execute_result"
    }
   ],
   "source": [
    "df.describe()"
   ]
  },
  {
   "cell_type": "code",
   "execution_count": 29,
   "metadata": {},
   "outputs": [
    {
     "data": {
      "text/plain": [
       "A    1.182217\n",
       "B   -0.306250\n",
       "C   -0.477980\n",
       "D   -0.275904\n",
       "Name: 2013-01-04 00:00:00, dtype: float64"
      ]
     },
     "execution_count": 29,
     "metadata": {},
     "output_type": "execute_result"
    }
   ],
   "source": [
    "df.iloc[3]"
   ]
  },
  {
   "cell_type": "code",
   "execution_count": 30,
   "metadata": {},
   "outputs": [
    {
     "data": {
      "text/html": [
       "<div>\n",
       "<style scoped>\n",
       "    .dataframe tbody tr th:only-of-type {\n",
       "        vertical-align: middle;\n",
       "    }\n",
       "\n",
       "    .dataframe tbody tr th {\n",
       "        vertical-align: top;\n",
       "    }\n",
       "\n",
       "    .dataframe thead th {\n",
       "        text-align: right;\n",
       "    }\n",
       "</style>\n",
       "<table border=\"1\" class=\"dataframe\">\n",
       "  <thead>\n",
       "    <tr style=\"text-align: right;\">\n",
       "      <th></th>\n",
       "      <th>A</th>\n",
       "      <th>B</th>\n",
       "    </tr>\n",
       "  </thead>\n",
       "  <tbody>\n",
       "    <tr>\n",
       "      <td>2013-01-04</td>\n",
       "      <td>1.182217</td>\n",
       "      <td>-0.306250</td>\n",
       "    </tr>\n",
       "    <tr>\n",
       "      <td>2013-01-05</td>\n",
       "      <td>0.475251</td>\n",
       "      <td>0.239123</td>\n",
       "    </tr>\n",
       "  </tbody>\n",
       "</table>\n",
       "</div>"
      ],
      "text/plain": [
       "                   A         B\n",
       "2013-01-04  1.182217 -0.306250\n",
       "2013-01-05  0.475251  0.239123"
      ]
     },
     "execution_count": 30,
     "metadata": {},
     "output_type": "execute_result"
    }
   ],
   "source": [
    "df.iloc[3:5, 0:2]"
   ]
  },
  {
   "cell_type": "code",
   "execution_count": 31,
   "metadata": {},
   "outputs": [
    {
     "data": {
      "text/html": [
       "<div>\n",
       "<style scoped>\n",
       "    .dataframe tbody tr th:only-of-type {\n",
       "        vertical-align: middle;\n",
       "    }\n",
       "\n",
       "    .dataframe tbody tr th {\n",
       "        vertical-align: top;\n",
       "    }\n",
       "\n",
       "    .dataframe thead th {\n",
       "        text-align: right;\n",
       "    }\n",
       "</style>\n",
       "<table border=\"1\" class=\"dataframe\">\n",
       "  <thead>\n",
       "    <tr style=\"text-align: right;\">\n",
       "      <th></th>\n",
       "      <th>A</th>\n",
       "      <th>B</th>\n",
       "      <th>C</th>\n",
       "      <th>D</th>\n",
       "    </tr>\n",
       "  </thead>\n",
       "  <tbody>\n",
       "    <tr>\n",
       "      <td>2013-01-04</td>\n",
       "      <td>1.182217</td>\n",
       "      <td>-0.306250</td>\n",
       "      <td>-0.47798</td>\n",
       "      <td>-0.275904</td>\n",
       "    </tr>\n",
       "    <tr>\n",
       "      <td>2013-01-05</td>\n",
       "      <td>0.475251</td>\n",
       "      <td>0.239123</td>\n",
       "      <td>-0.93753</td>\n",
       "      <td>-1.624414</td>\n",
       "    </tr>\n",
       "  </tbody>\n",
       "</table>\n",
       "</div>"
      ],
      "text/plain": [
       "                   A         B        C         D\n",
       "2013-01-04  1.182217 -0.306250 -0.47798 -0.275904\n",
       "2013-01-05  0.475251  0.239123 -0.93753 -1.624414"
      ]
     },
     "execution_count": 31,
     "metadata": {},
     "output_type": "execute_result"
    }
   ],
   "source": [
    "df[df.A > 0]"
   ]
  },
  {
   "cell_type": "code",
   "execution_count": 32,
   "metadata": {},
   "outputs": [
    {
     "data": {
      "text/html": [
       "<div>\n",
       "<style scoped>\n",
       "    .dataframe tbody tr th:only-of-type {\n",
       "        vertical-align: middle;\n",
       "    }\n",
       "\n",
       "    .dataframe tbody tr th {\n",
       "        vertical-align: top;\n",
       "    }\n",
       "\n",
       "    .dataframe thead th {\n",
       "        text-align: right;\n",
       "    }\n",
       "</style>\n",
       "<table border=\"1\" class=\"dataframe\">\n",
       "  <thead>\n",
       "    <tr style=\"text-align: right;\">\n",
       "      <th></th>\n",
       "      <th>A</th>\n",
       "      <th>B</th>\n",
       "      <th>C</th>\n",
       "      <th>D</th>\n",
       "    </tr>\n",
       "  </thead>\n",
       "  <tbody>\n",
       "    <tr>\n",
       "      <td>2013-01-01</td>\n",
       "      <td>NaN</td>\n",
       "      <td>1.423361</td>\n",
       "      <td>NaN</td>\n",
       "      <td>0.789472</td>\n",
       "    </tr>\n",
       "    <tr>\n",
       "      <td>2013-01-02</td>\n",
       "      <td>NaN</td>\n",
       "      <td>NaN</td>\n",
       "      <td>NaN</td>\n",
       "      <td>1.366817</td>\n",
       "    </tr>\n",
       "    <tr>\n",
       "      <td>2013-01-03</td>\n",
       "      <td>NaN</td>\n",
       "      <td>1.066653</td>\n",
       "      <td>0.03625</td>\n",
       "      <td>NaN</td>\n",
       "    </tr>\n",
       "    <tr>\n",
       "      <td>2013-01-04</td>\n",
       "      <td>1.182217</td>\n",
       "      <td>NaN</td>\n",
       "      <td>NaN</td>\n",
       "      <td>NaN</td>\n",
       "    </tr>\n",
       "    <tr>\n",
       "      <td>2013-01-05</td>\n",
       "      <td>0.475251</td>\n",
       "      <td>0.239123</td>\n",
       "      <td>NaN</td>\n",
       "      <td>NaN</td>\n",
       "    </tr>\n",
       "    <tr>\n",
       "      <td>2013-01-06</td>\n",
       "      <td>NaN</td>\n",
       "      <td>NaN</td>\n",
       "      <td>NaN</td>\n",
       "      <td>0.797453</td>\n",
       "    </tr>\n",
       "  </tbody>\n",
       "</table>\n",
       "</div>"
      ],
      "text/plain": [
       "                   A         B        C         D\n",
       "2013-01-01       NaN  1.423361      NaN  0.789472\n",
       "2013-01-02       NaN       NaN      NaN  1.366817\n",
       "2013-01-03       NaN  1.066653  0.03625       NaN\n",
       "2013-01-04  1.182217       NaN      NaN       NaN\n",
       "2013-01-05  0.475251  0.239123      NaN       NaN\n",
       "2013-01-06       NaN       NaN      NaN  0.797453"
      ]
     },
     "execution_count": 32,
     "metadata": {},
     "output_type": "execute_result"
    }
   ],
   "source": [
    "df[df > 0]"
   ]
  },
  {
   "cell_type": "code",
   "execution_count": null,
   "metadata": {},
   "outputs": [],
   "source": []
  }
 ],
 "metadata": {
  "kernelspec": {
   "display_name": "Python 3",
   "language": "python",
   "name": "python3"
  },
  "language_info": {
   "codemirror_mode": {
    "name": "ipython",
    "version": 3
   },
   "file_extension": ".py",
   "mimetype": "text/x-python",
   "name": "python",
   "nbconvert_exporter": "python",
   "pygments_lexer": "ipython3",
   "version": "3.7.4"
  }
 },
 "nbformat": 4,
 "nbformat_minor": 2
}
